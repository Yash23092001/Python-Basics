{
  "nbformat": 4,
  "nbformat_minor": 0,
  "metadata": {
    "colab": {
      "provenance": []
    },
    "kernelspec": {
      "name": "python3",
      "display_name": "Python 3"
    },
    "language_info": {
      "name": "python"
    }
  },
  "cells": [
    {
      "cell_type": "markdown",
      "source": [
        "#python basic"
      ],
      "metadata": {
        "id": "NlzdfrRQU2Zo"
      }
    },
    {
      "cell_type": "markdown",
      "source": [
        "1.What is Python, and why is it popular?\n",
        "  - Python is a high-level, interpreted programming language known for its simplicity and readability. It supports multiple programming paradigms, including procedural, object-oriented, and functional programming. Python is widely used in web development, data science, artificial intelligence, and automation. Its extensive libraries and strong community support make development faster and more efficient. The language's versatility and ease of learning contribute to its growing popularity.\n",
        "\n",
        "2 What is an interpreter in Python ?  \n",
        "   - An interpreter in Python is a program that executes Python code line by line. It translates high-level Python code into machine-readable instructions at runtime. This allows for easy debugging and quick testing of code without compilation. The Python interpreter supports interactive execution through the Python shell. Different implementations exist, such as CPython (default), PyPy, and Jython.\n",
        "\n",
        "3.What are pre-defined keywords in Python ?\n",
        " - Pre-defined keywords in Python are reserved words with special meanings used to define syntax and structure. They cannot be used as variable names, function names, or identifiers. Examples include if, else, while, for, def, class, and return. These keywords help in writing conditional statements, loops, functions, and classes. Python has a fixed set of keywords that may change in different versions.   \n",
        "\n",
        "4.Can keywords be used as variable names ?\n",
        "  - No, keywords cannot be used as variable names in Python because they have predefined meanings. Using a keyword as a variable name will result in a syntax error. Python reserves these words for defining the structure and flow of the program. For example, trying to assign a value to if or while will cause an error. To avoid conflicts, always use unique and meaningful variable names\n",
        "\n",
        "5.What is mutability in Python ?\n",
        "  -  Mutability in Python refers to whether an object's value can be changed after it is created. Mutable objects, like lists and dictionaries, allow modifications such as adding, removing, or changing elements. Immutable objects, like strings, tuples, and integers, cannot be changed once assigned. This distinction affects memory management and performance in Python. Understanding mutability helps in writing efficient and bug-free code\n",
        "\n",
        "6.Why are lists mutable, but tuples are immutable ?\n",
        "  - Lists are mutable in Python because they allow modifications, such as adding, removing, or changing elements after creation. They store references to elements, enabling dynamic changes in memory. Tuples, on the other hand, are immutable, meaning their elements cannot be modified once assigned. This immutability ensures data integrity and makes tuples more memory-efficient and faster than lists. Python implements tuples with fixed memory allocation, preventing modifications. This distinction helps in choosing the right data structure based on the use case.\n",
        "\n",
        "7 What is the difference between “==” and “is” operators in Python ?\n",
        "  - The == operator in Python checks for value equality, meaning it compares whether two variables have the same data. The is operator checks for identity equality, meaning it verifies whether two variables refer to the same memory location. For example, a == b returns True if a and b have the same value, even if stored separately. However, a is b returns True only if both variables point to the exact same object in memory. The is operator is mainly used for comparing singleton objects like None. Using == is common for value comparisons, while is is used for identity checks.\n",
        "\n",
        "8 What are logical operators in Python ?\n",
        "- Logical operators in Python are used to combine multiple conditions and return a Boolean result. The three main logical operators are and, or, and not. The and operator returns True if both conditions are True, otherwise False. The or operator returns True if at least one condition is True. The not operator negates a Boolean value, converting True to False and vice versa. These operators are commonly used in conditional statements and loops for decision-making.  \n",
        "\n",
        "9.What is type casting in Python ?\n",
        "- Type casting in Python is the process of converting one data type into another. It can be done using built-in functions like int(), float(), str(), list(), and tuple(). Explicit type casting (manual conversion) occurs when the programmer explicitly changes a data type, like int(\"10\") converting a string to an integer. Implicit type casting (automatic conversion) happens when Python automatically converts a smaller data type to a larger one, like int to float. Type casting helps in handling different data types efficiently in calculations and data processing. Proper type conversion prevents errors and ensures smooth program execution.\n",
        "\n",
        "10.What is the difference between implicit and explicit type casting ?\n",
        "   - Implicit type casting is done automatically by Python when converting a smaller data type to a larger one to avoid data loss. It happens without user intervention, like converting an integer to a float in an expression. Explicit type casting requires the programmer to manually convert one data type to another using functions like int(), float(), or str(). It is used when automatic conversion is not possible or desired. Implicit casting ensures type compatibility, while explicit casting provides more control over data types. Implicit casting occurs when Python handles the conversion internally, while explicit casting is user-driven.\n",
        "\n",
        "11.What is the purpose of conditional statements in Python ?\n",
        "   - Conditional statements in Python are used to execute specific blocks of code based on certain conditions. They allow the program to make decisions and control the flow of execution. The most common conditional statements are if, elif, and else. The if statement checks if a condition is true, and if so, it executes the corresponding block of code. The elif statement checks additional conditions if the if condition is false. The else statement provides a default action when none of the previous conditions are met. Conditional statements are crucial for implementing decision-making logic in programs.\n",
        "\n",
        "12.How does the elif statement work ?\n",
        "  -The elif (short for \"else if\") statement in Python is used to check multiple conditions in sequence. It follows an if statement and allows the program to test additional conditions if the initial if condition is false. When the condition in the elif statement evaluates to True, its corresponding block of code is executed, and the rest of the elif or else statements are skipped. If none of the if or elif conditions are true, the else block (if present) is executed as a fallback. The elif statement helps to handle multiple conditions in a structured manner.\n",
        "\n",
        "13 What is the difference between for and while loops ?\n",
        "   - The for loop in Python is used to iterate over a sequence (such as a list, tuple, or range) or to execute a block of code a specific number of times. It is useful when the number of iterations is predetermined or based on the length of the sequence. Example: for i in range(5): iterates five times.\n",
        "\n",
        "  The while loop runs as long as a given condition evaluates to True. It is typically used when the number of iterations is not known in advance and depends on dynamic conditions during runtime. Example: while x < 5: continues executing as long as x is less than 5.\n",
        "\n",
        "  In summary, for is used for iterating over sequences or known ranges, while while is used when the condition may change during execution.   \n",
        "\n",
        "14  Describe a scenario where a while loop is more suitable than a for loop?\n",
        "   - A scenario where a while loop is more suitable than a for loop is when you need to repeatedly prompt the user for input until they provide valid data. In this case, the number of iterations is unknown, and you want the loop to continue running until a specific condition is met.\n",
        "  \n",
        "  user_input = \"\"\n",
        "while user_input != \"exit\":\n",
        "    user_input = input(\"Enter a command (type 'exit' to stop): \")\n",
        "    print(f\"You entered: {user_input}\")\n",
        "    "
      ],
      "metadata": {
        "id": "m1g8tEVFVEF3"
      }
    },
    {
      "cell_type": "code",
      "source": [
        "# 1. Write a Python program to print \"Hello, World!?\n",
        "\n",
        "print(\"Hello, World!\")\n"
      ],
      "metadata": {
        "colab": {
          "base_uri": "https://localhost:8080/"
        },
        "id": "7lLAl9UoUyvE",
        "outputId": "a41897f1-d22b-4bb7-88a9-cb393639a648"
      },
      "execution_count": 2,
      "outputs": [
        {
          "output_type": "stream",
          "name": "stdout",
          "text": [
            "Hello, World!\n"
          ]
        }
      ]
    },
    {
      "cell_type": "code",
      "source": [
        "# 2.Write a Python program that displays your name and age?\n",
        "name = \"Yash Choudhary\"\n",
        "age = 23\n",
        "\n",
        "print(\"Name:\", name)\n",
        "print(\"Age:\", age)"
      ],
      "metadata": {
        "colab": {
          "base_uri": "https://localhost:8080/"
        },
        "id": "g66NatvJVCTZ",
        "outputId": "405743ff-31e3-45ef-8e24-0d306413f303"
      },
      "execution_count": 3,
      "outputs": [
        {
          "output_type": "stream",
          "name": "stdout",
          "text": [
            "Name: Yash Choudhary\n",
            "Age: 23\n"
          ]
        }
      ]
    },
    {
      "cell_type": "code",
      "source": [
        "# 3. Write code to print all the pre-defined keywords in Python using the keyword library?\n",
        "import keyword\n",
        "print(\"Python's predefined keywords are:\")\n",
        "print(keyword.kwlist)"
      ],
      "metadata": {
        "colab": {
          "base_uri": "https://localhost:8080/"
        },
        "id": "mkSPASUlhhXx",
        "outputId": "daf5d8a8-aa23-45ac-f0c8-315b82ef0061"
      },
      "execution_count": 4,
      "outputs": [
        {
          "output_type": "stream",
          "name": "stdout",
          "text": [
            "Python's predefined keywords are:\n",
            "['False', 'None', 'True', 'and', 'as', 'assert', 'async', 'await', 'break', 'class', 'continue', 'def', 'del', 'elif', 'else', 'except', 'finally', 'for', 'from', 'global', 'if', 'import', 'in', 'is', 'lambda', 'nonlocal', 'not', 'or', 'pass', 'raise', 'return', 'try', 'while', 'with', 'yield']\n"
          ]
        }
      ]
    },
    {
      "cell_type": "code",
      "source": [
        "#4. Write a program that checks if a given word is a Python keyword?\n",
        "import keyword\n",
        "\n",
        "word = input(\"Enter a word: \")\n",
        "\n",
        "if keyword.iskeyword(word):\n",
        "    print(f\"'{word}' is a Python keyword.\")\n",
        "else:\n",
        "    print(f\"'{word}' is not a Python keyword.\")\n"
      ],
      "metadata": {
        "colab": {
          "base_uri": "https://localhost:8080/"
        },
        "id": "sngBdUUEh5-n",
        "outputId": "31030c6b-63f9-428e-a225-5f30f6bf4bcb"
      },
      "execution_count": 6,
      "outputs": [
        {
          "output_type": "stream",
          "name": "stdout",
          "text": [
            "Enter a word: class\n",
            "'class' is a Python keyword.\n"
          ]
        }
      ]
    },
    {
      "cell_type": "code",
      "source": [
        "#5  Create a list and tuple in Python, and demonstrate how attempting to change an element works differently for each?\n",
        "my_list = [1, 2, 3, 4]\n",
        "my_tuple = (1, 2, 3, 4)\n",
        "\n",
        "\n",
        "my_list[2] = 10\n",
        "print(\"List after modification:\", my_list)\n",
        "\n",
        "\n",
        "try:\n",
        "    my_tuple[2] = 10\n",
        "except TypeError as e:\n",
        "    print(\"Error while modifying tuple:\", e)"
      ],
      "metadata": {
        "colab": {
          "base_uri": "https://localhost:8080/"
        },
        "id": "F7BZv8itihdY",
        "outputId": "c10e5fc6-990f-42bb-dd24-2c6a85d4fcf2"
      },
      "execution_count": 7,
      "outputs": [
        {
          "output_type": "stream",
          "name": "stdout",
          "text": [
            "List after modification: [1, 2, 10, 4]\n",
            "Error while modifying tuple: 'tuple' object does not support item assignment\n"
          ]
        }
      ]
    },
    {
      "cell_type": "code",
      "source": [
        "#6  Write a function to demonstrate the behavior of mutable and immutable arguments?\n",
        "def modify_arguments(mutable_arg, immutable_arg):\n",
        "    print(\"Before modification:\")\n",
        "    print(\"Mutable argument:\", mutable_arg)\n",
        "    print(\"Immutable argument:\", immutable_arg)\n",
        "\n",
        "    mutable_arg.append(100)\n",
        "\n",
        "\n",
        "    immutable_arg = \"Changed\"\n",
        "\n",
        "    print(\"\\nAfter modification:\")\n",
        "    print(\"Mutable argument:\", mutable_arg)\n",
        "    print(\"Immutable argument:\", immutable_arg)\n",
        "\n",
        "my_list = [1, 2, 3]\n",
        "my_string = \"Original\"\n",
        "\n",
        "modify_arguments(my_list, my_string)\n",
        "\n",
        "print(\"\\nOutside function:\")\n",
        "print(\"Mutable argument:\", my_list)\n",
        "print(\"Immutable argument:\", my_string)\n"
      ],
      "metadata": {
        "colab": {
          "base_uri": "https://localhost:8080/"
        },
        "id": "Y4pHGQzrjQ_z",
        "outputId": "360d5351-d7dd-455a-df35-93f7d4895a57"
      },
      "execution_count": 9,
      "outputs": [
        {
          "output_type": "stream",
          "name": "stdout",
          "text": [
            "Before modification:\n",
            "Mutable argument: [1, 2, 3]\n",
            "Immutable argument: Original\n",
            "\n",
            "After modification:\n",
            "Mutable argument: [1, 2, 3, 100]\n",
            "Immutable argument: Changed\n",
            "\n",
            "Outside function:\n",
            "Mutable argument: [1, 2, 3, 100]\n",
            "Immutable argument: Original\n"
          ]
        }
      ]
    },
    {
      "cell_type": "code",
      "source": [
        "#7 Write a program that performs basic arithmetic operations on two user-input numbers.\n",
        "\n",
        "num1 = float(input(\"Enter the first number: \"))\n",
        "num2 = float(input(\"Enter the second number: \"))\n",
        "\n",
        "\n",
        "addition = num1 + num2\n",
        "subtraction = num1 - num2\n",
        "multiplication = num1 * num2\n",
        "\n",
        "if num2 != 0:\n",
        "    division = num1 / num2\n",
        "else:\n",
        "    division = \"Undefined (cannot divide by zero)\"\n",
        "\n",
        "# Displaying the results\n",
        "print(\"\\nResults:\")\n",
        "print(f\"Addition: {addition}\")\n",
        "print(f\"Subtraction: {subtraction}\")\n",
        "print(f\"Multiplication: {multiplication}\")\n",
        "print(f\"Division: {division}\")\n"
      ],
      "metadata": {
        "colab": {
          "base_uri": "https://localhost:8080/"
        },
        "id": "sN-HUU_pk_ZI",
        "outputId": "a32579b5-7731-4aeb-9288-12319fb622ac"
      },
      "execution_count": 10,
      "outputs": [
        {
          "output_type": "stream",
          "name": "stdout",
          "text": [
            "Enter the first number: 4 \n",
            "Enter the second number: 7\n",
            "\n",
            "Results:\n",
            "Addition: 11.0\n",
            "Subtraction: -3.0\n",
            "Multiplication: 28.0\n",
            "Division: 0.5714285714285714\n"
          ]
        }
      ]
    },
    {
      "cell_type": "code",
      "source": [
        "#8 Write a program to demonstrate the use of logical operators\n",
        "\n",
        "a = int(input(\"Enter the first number: \"))\n",
        "b = int(input(\"Enter the second number: \"))\n",
        "\n",
        "\n",
        "print(\"\\nLogical AND:\")\n",
        "print(f\"{a} > 0 and {b} > 0:\", a > 0 and b > 0)\n",
        "\n",
        "\n",
        "print(\"\\nLogical OR:\")\n",
        "print(f\"{a} > 0 or {b} > 0:\", a > 0 or b > 0)\n",
        "\n",
        "\n",
        "print(\"\\nLogical NOT:\")\n",
        "print(f\"not ({a} > 0):\", not (a > 0))\n",
        "print(f\"not ({b} > 0):\", not (b > 0))\n"
      ],
      "metadata": {
        "colab": {
          "base_uri": "https://localhost:8080/"
        },
        "id": "RoApBKJElP2I",
        "outputId": "e4bb7ff6-9854-4c04-ca42-0b51bec41d17"
      },
      "execution_count": 11,
      "outputs": [
        {
          "output_type": "stream",
          "name": "stdout",
          "text": [
            "Enter the first number: 4\n",
            "Enter the second number: 8\n",
            "\n",
            "Logical AND:\n",
            "4 > 0 and 8 > 0: True\n",
            "\n",
            "Logical OR:\n",
            "4 > 0 or 8 > 0: True\n",
            "\n",
            "Logical NOT:\n",
            "not (4 > 0): False\n",
            "not (8 > 0): False\n"
          ]
        }
      ]
    },
    {
      "cell_type": "code",
      "source": [
        "#9 Write a Python program to convert user input from string to integer, float, and boolean types.\n",
        "\n",
        "user_input = input(\"Enter a value: \")\n",
        "\n",
        "try:\n",
        "    int_value = int(user_input)\n",
        "    print(f\"Integer conversion: {int_value}\")\n",
        "except ValueError:\n",
        "    print(\"Cannot convert to integer.\")\n",
        "\n",
        "\n",
        "try:\n",
        "    float_value = float(user_input)\n",
        "    print(f\"Float conversion: {float_value}\")\n",
        "except ValueError:\n",
        "    print(\"Cannot convert to float.\")\n",
        "\n",
        "bool_value = bool(user_input)\n",
        "print(f\"Boolean conversion: {bool_value}\")\n"
      ],
      "metadata": {
        "colab": {
          "base_uri": "https://localhost:8080/"
        },
        "id": "b31Oq6nll51c",
        "outputId": "93c3ee37-b88c-4612-9eae-b486bf007e08"
      },
      "execution_count": 12,
      "outputs": [
        {
          "output_type": "stream",
          "name": "stdout",
          "text": [
            "Enter a value: 4\n",
            "Integer conversion: 4\n",
            "Float conversion: 4.0\n",
            "Boolean conversion: True\n"
          ]
        }
      ]
    },
    {
      "cell_type": "code",
      "source": [
        "# 10.Write code to demonstrate type casting with list elements ?\n",
        "\n",
        "str_list = [\"10\", \"20\", \"30\", \"40.5\", \"50.7\"]\n",
        "\n",
        "int_list = [int(float(i)) for i in str_list]\n",
        "print(\"Integer List:\", int_list)\n",
        "\n",
        "float_list = [float(i) for i in str_list]\n",
        "print(\"Float List:\", float_list)\n",
        "\n",
        "\n",
        "bool_list = [bool(i) for i in str_list]\n",
        "print(\"Boolean List:\", bool_list)\n"
      ],
      "metadata": {
        "colab": {
          "base_uri": "https://localhost:8080/"
        },
        "id": "2WCHZXLpmTPA",
        "outputId": "9db7fbfa-4fa4-4afb-f400-bbc8281704df"
      },
      "execution_count": 13,
      "outputs": [
        {
          "output_type": "stream",
          "name": "stdout",
          "text": [
            "Integer List: [10, 20, 30, 40, 50]\n",
            "Float List: [10.0, 20.0, 30.0, 40.5, 50.7]\n",
            "Boolean List: [True, True, True, True, True]\n"
          ]
        }
      ]
    },
    {
      "cell_type": "code",
      "source": [
        "# 11.Write a program that checks if a number is positive, negative, or zero\n",
        "\n",
        "num = float(input(\"Enter a number: \"))\n",
        "\n",
        "if num > 0:\n",
        "    print(\"The number is positive.\")\n",
        "elif num < 0:\n",
        "    print(\"The number is negative.\")\n",
        "else:\n",
        "    print(\"The number is zero.\")\n"
      ],
      "metadata": {
        "colab": {
          "base_uri": "https://localhost:8080/"
        },
        "id": "IJ4RXVyimnpW",
        "outputId": "abf04ff0-0e0e-458f-c0c5-15347f6b8bd6"
      },
      "execution_count": 14,
      "outputs": [
        {
          "output_type": "stream",
          "name": "stdout",
          "text": [
            "Enter a number: 3\n",
            "The number is positive.\n"
          ]
        }
      ]
    },
    {
      "cell_type": "code",
      "source": [
        "# 12.Write a for loop to print numbers from 1 to 10.\n",
        "for i in range(1, 11):\n",
        "    print(i)\n"
      ],
      "metadata": {
        "colab": {
          "base_uri": "https://localhost:8080/"
        },
        "id": "ysYwnTOamzQT",
        "outputId": "72248d71-d439-41da-94a9-1e81bde48b44"
      },
      "execution_count": 15,
      "outputs": [
        {
          "output_type": "stream",
          "name": "stdout",
          "text": [
            "1\n",
            "2\n",
            "3\n",
            "4\n",
            "5\n",
            "6\n",
            "7\n",
            "8\n",
            "9\n",
            "10\n"
          ]
        }
      ]
    },
    {
      "cell_type": "code",
      "source": [
        "# 13. Write a Python program to find the sum of all even numbers between 1 and 50.\n",
        "\n",
        "sum_even = 0\n",
        "\n",
        "for num in range(2, 51, 2):\n",
        "    sum_even += num\n",
        "\n",
        "print(\"The sum of all even numbers between 1 and 50 is:\", sum_even)\n"
      ],
      "metadata": {
        "colab": {
          "base_uri": "https://localhost:8080/"
        },
        "id": "OMrrtnXWm_4S",
        "outputId": "0b078e94-cd99-475b-fd7e-48ea1784c2a7"
      },
      "execution_count": 16,
      "outputs": [
        {
          "output_type": "stream",
          "name": "stdout",
          "text": [
            "The sum of all even numbers between 1 and 50 is: 650\n"
          ]
        }
      ]
    },
    {
      "cell_type": "code",
      "source": [
        "# 14.Write a program to reverse a string using a while loop.\n",
        "\n",
        "original_string = input(\"Enter a string: \")\n",
        "\n",
        "\n",
        "reversed_string = \"\"\n",
        "index = len(original_string) - 1\n",
        "\n",
        "\n",
        "while index >= 0:\n",
        "    reversed_string += original_string[index]\n",
        "    index -= 1\n",
        "\n",
        "\n",
        "print(\"Reversed string:\", reversed_string)\n"
      ],
      "metadata": {
        "colab": {
          "base_uri": "https://localhost:8080/"
        },
        "id": "GPBfIXoKnMBX",
        "outputId": "d7eb682c-d9c1-454e-c4ce-e05dd4516a55"
      },
      "execution_count": 18,
      "outputs": [
        {
          "output_type": "stream",
          "name": "stdout",
          "text": [
            "Enter a string: desffffd\n",
            "Reversed string: dffffsed\n"
          ]
        }
      ]
    },
    {
      "cell_type": "code",
      "source": [
        "# 15.Write a Python program to calculate the factorial of a number provided by the user using a while loop.\n",
        "\n",
        "num = int(input(\"Enter a number: \"))\n",
        "\n",
        "\n",
        "factorial = 1\n",
        "i = num\n",
        "\n",
        "\n",
        "while i > 0:\n",
        "    factorial *= i\n",
        "    i -= 1\n",
        "\n",
        "\n",
        "print(f\"The factorial of {num} is: {factorial}\")\n"
      ],
      "metadata": {
        "colab": {
          "base_uri": "https://localhost:8080/"
        },
        "id": "dOTsIcZunfy3",
        "outputId": "0817bc6a-b750-42b0-fab5-88b8ddd24b9d"
      },
      "execution_count": 19,
      "outputs": [
        {
          "output_type": "stream",
          "name": "stdout",
          "text": [
            "Enter a number: 4\n",
            "The factorial of 4 is: 24\n"
          ]
        }
      ]
    }
  ]
}